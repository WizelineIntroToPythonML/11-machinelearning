{
 "cells": [
  {
   "cell_type": "markdown",
   "metadata": {},
   "source": [
    "# Session 11\n",
    "\n",
    "## Machine Learning\n",
    "\n",
    "![Course Hero](images/hero.png)\n",
    "\n",
    "## What is Artificial Intelligence and Machine Learning?\n",
    "\n",
    "> Machine Learning is like sex in high school. Everybody wants to do it, lots of people say they are doing it, only a few know how, and a very select few actually do it.\n",
    "\n",
    "## Computing Machinery and Intelligence\n",
    "\n",
    "[![Alan Turing Photo](images/alan_turing.jpg)](https://en.wikipedia.org/wiki/Alan_Turing)\n",
    "\n",
    "In 1950 [Alan Turing](https://en.wikipedia.org/wiki/Alan_Turing) wrote a paper in Mind (a journal in Oxford University) called [\"Computing Machinery and Intelligence\"](https://en.wikipedia.org/wiki/Computing_Machinery_and_Intelligence). In it he discusses the subject of Artificial Intelligence.\n",
    "\n",
    "## What is Intelligence?\n",
    "\n",
    "**Computational or Structural Intelligence**: A System that perceives itself and its environment and takes action to maximize its goals.\n",
    "\n",
    "**Executive Intelligence**: The System that decides the goals that should be pursued, controlling and guiding the Computational Intelligence.\n",
    "\n",
    "Recommendation: Read [\"La inteligencia fracasada. Teoría y práctica de la estupidez\"](https://es.wikipedia.org/wiki/La_inteligencia_fracasada._Teor%C3%ADa_y_pr%C3%A1ctica_de_la_estupidez), José Antonio Marina, 2004.\n",
    "\n",
    "[![Book Cover](images/inteligencia_fracasada_book.jpg)](https://es.wikipedia.org/wiki/La_inteligencia_fracasada._Teor%C3%ADa_y_pr%C3%A1ctica_de_la_estupidez)\n",
    "\n",
    "## What is Machine Learning\n",
    "\n",
    "It is a part of Artificial Intelligence. We create a **model** trained with the available data using statistics and numerical methods, so we are able to reach automated conclusions over new data.\n"
   ]
  },
  {
   "cell_type": "markdown",
   "metadata": {},
   "source": [
    "## How can we categorize Machine Learning Algorithms\n",
    "\n",
    "There are four big \"Families\" of Machine Learning Algorithms:\n",
    "\n",
    "- Supervised: In which we have examples where we know the right answer (**labeled data**).\n",
    "  - Regression: We want to obtain a discreet value. A number.\n",
    "  - Classification: We want to obtain a discreet value. A category.\n",
    "- Unsupervised: In which we don´t know the right answer (**unlabeled data**).\n",
    "  - Clustering: Separate the observations into discreet groups.\n",
    "  - Generalization: Find the relevant characteristics.\n",
    "  - Association: Which observations frequently go together.\n",
    "- Ensemble Methods: A Bunch of stupid trees learning to correct errors from each other.\n",
    "  - Stacking: Run several models in parallel, and a last one makes the decision.\n",
    "  - Bagging: We average the result of several models.\n",
    "  - Boosting: Each model learns to correct and interpret the errors of the last one sequentially.\n",
    "- Reinforcement Learning: We decide the next action depending on the response to the previous ones.\n",
    "  - Neural Networks: They try to \"mimic\" how we think Neuron Work.\n",
    "  - Deep Learning: Huge neural networks, made possible by the advent of cheap inference computing power.\n",
    "\n",
    "![Machine Learning Kinds](images/machine_learning.jpeg)\n",
    "\n",
    "![Deep Learning Image](images/neural_networks.png)\n",
    "\n",
    "![Clustering using DBScan](images/clustering_dbscan.gif)\n"
   ]
  },
  {
   "cell_type": "markdown",
   "metadata": {},
   "source": [
    "## Is it working? How to evaluate a Machine Learning Model.\n",
    "\n",
    "Because of its nature, there is no way to have complete certainty of the results of a Machine Learning Model. There will always be the possibility of error. Almost always our target is to **minimize** the error.\n",
    "\n",
    "![AUROC Graph](images/roc_auc.png)\n",
    "\n",
    "To know the result of our model training we separate our data in two sets.\n",
    "\n",
    "- Train Data: Is the data we are going to use to train the model. Normally 75% to 80%.\n",
    "- Test Data: Data we are going to use in the trained model to see how it behaves. The rest of the data.\n",
    "\n",
    "![Training Result](images/training_result.png)\n"
   ]
  },
  {
   "cell_type": "markdown",
   "metadata": {},
   "source": [
    "## Machine Learning in Python - SciPy\n",
    "\n",
    "Besides NumPy and pandas, we use the SciPy package as a base of fundamental algorithms.\n",
    "\n",
    "![SciPy Logo](images/scipy_logo.png)\n",
    "\n",
    "## Machine Learning Libraries\n",
    "\n",
    "There are many of different Machine Learning Libraries, for example:\n",
    "\n",
    "- [TensorFlow](https://www.tensorflow.org)\n",
    "- [Theano](https://pypi.org/project/Theano/)\n",
    "- [Keras](https://keras.io)\n",
    "- [PyTorch](https://pytorch.org)\n",
    "- [Orange3](https://orangedatamining.com)\n",
    "- [Scikit-learn](https://scikit-learn.org/stable/)\n",
    "\n",
    "![ML Libraries](images/ml-libraries.jpg)\n"
   ]
  },
  {
   "cell_type": "markdown",
   "metadata": {},
   "source": [
    "## Scikit-learn\n",
    "\n",
    "Simple and efficient tools for predictive data analysis\n",
    "\n",
    "- Accessible to everybody, and reusable in various contexts\n",
    "- Built on NumPy, SciPy, and matplotlib\n",
    "- Open source, commercially usable - BSD license\n",
    "\n",
    "![Scikit-learn logo](images/scikit_learn_logo.png)\n"
   ]
  },
  {
   "cell_type": "code",
   "execution_count": null,
   "metadata": {},
   "outputs": [],
   "source": [
    "import numpy as np\n",
    "import pandas as pd\n",
    "import seaborn as sns\n",
    "import matplotlib.pyplot as plt\n",
    "\n",
    "iris = sns.load_dataset('iris')\n",
    "\n",
    "sns.pairplot(iris, hue='species', height=3)"
   ]
  },
  {
   "cell_type": "markdown",
   "metadata": {},
   "source": [
    "![Iris dataset flowers](images/iris_dataset.jpg)\n"
   ]
  },
  {
   "cell_type": "code",
   "execution_count": null,
   "metadata": {},
   "outputs": [],
   "source": [
    "iris.sample(5)"
   ]
  },
  {
   "cell_type": "code",
   "execution_count": null,
   "metadata": {},
   "outputs": [],
   "source": [
    "petal_width = iris[\"petal_width\"]\n",
    "petal_length = iris[\"petal_length\"]\n",
    "\n",
    "plt.scatter(petal_width, petal_length)"
   ]
  },
  {
   "cell_type": "code",
   "execution_count": null,
   "metadata": {},
   "outputs": [],
   "source": [
    "from sklearn.linear_model import LinearRegression\n",
    "\n",
    "model = LinearRegression(fit_intercept = True)\n"
   ]
  },
  {
   "cell_type": "markdown",
   "metadata": {},
   "source": [
    "We need to reshape the feature matrix petal_width to make it an array of size [n_samples, n_features]. It can be done as follows.\n"
   ]
  },
  {
   "cell_type": "code",
   "execution_count": null,
   "metadata": {},
   "outputs": [],
   "source": [
    "petal_width_array = petal_width.to_numpy()[:, np.newaxis]\n",
    "petal_width_array.shape\n",
    "type(petal_width_array)"
   ]
  },
  {
   "cell_type": "markdown",
   "metadata": {},
   "source": [
    "Then we can fit the model\n"
   ]
  },
  {
   "cell_type": "code",
   "execution_count": null,
   "metadata": {},
   "outputs": [],
   "source": [
    "model.fit(petal_width_array, petal_length)"
   ]
  },
  {
   "cell_type": "code",
   "execution_count": null,
   "metadata": {},
   "outputs": [],
   "source": [
    "print(model.coef_, model.intercept_)"
   ]
  },
  {
   "cell_type": "markdown",
   "metadata": {},
   "source": [
    "We create some predictions\n"
   ]
  },
  {
   "cell_type": "code",
   "execution_count": null,
   "metadata": {},
   "outputs": [],
   "source": [
    "xfit = np.linspace(0, 2.6)\n",
    "Xfit = xfit[:, np.newaxis]\n",
    "yfit = model.predict(Xfit)\n",
    "print(yfit)"
   ]
  },
  {
   "cell_type": "code",
   "execution_count": null,
   "metadata": {},
   "outputs": [],
   "source": [
    "plt.scatter(petal_width, petal_length)\n",
    "plt.plot(xfit, yfit);"
   ]
  }
 ],
 "metadata": {
  "kernelspec": {
   "display_name": "Python 3.10.6 ('venv': venv)",
   "language": "python",
   "name": "python3"
  },
  "language_info": {
   "codemirror_mode": {
    "name": "ipython",
    "version": 3
   },
   "file_extension": ".py",
   "mimetype": "text/x-python",
   "name": "python",
   "nbconvert_exporter": "python",
   "pygments_lexer": "ipython3",
   "version": "3.10.6"
  },
  "vscode": {
   "interpreter": {
    "hash": "26f3fa5db3d133c1347973118ef626e307094b6a97c1676bb01d816af5f15f40"
   }
  }
 },
 "nbformat": 4,
 "nbformat_minor": 4
}
